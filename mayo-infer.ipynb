{
 "cells": [
  {
   "cell_type": "code",
   "execution_count": 1,
   "id": "9279744b",
   "metadata": {
    "_cell_guid": "b1076dfc-b9ad-4769-8c92-a6c4dae69d19",
    "_uuid": "8f2839f25d086af736a60e9eeb907d3b93b6e0e5",
    "execution": {
     "iopub.execute_input": "2022-10-02T13:09:20.889010Z",
     "iopub.status.busy": "2022-10-02T13:09:20.888474Z",
     "iopub.status.idle": "2022-10-02T13:09:23.345749Z",
     "shell.execute_reply": "2022-10-02T13:09:23.344779Z"
    },
    "papermill": {
     "duration": 2.464838,
     "end_time": "2022-10-02T13:09:23.348901",
     "exception": false,
     "start_time": "2022-10-02T13:09:20.884063",
     "status": "completed"
    },
    "tags": []
   },
   "outputs": [],
   "source": [
    "import os\n",
    "import gc\n",
    "import cv2\n",
    "import copy\n",
    "import time\n",
    "import torch\n",
    "import random\n",
    "import string\n",
    "import joblib\n",
    "import tifffile\n",
    "import numpy as np \n",
    "import pandas as pd \n",
    "import torch.nn as nn\n",
    "import seaborn as sns\n",
    "from random import randint\n",
    "from torchvision import models\n",
    "from tqdm.notebook import tqdm\n",
    "import matplotlib.pyplot as plt\n",
    "from torch.optim import lr_scheduler\n",
    "from torch.utils.data import Dataset, DataLoader\n",
    "from sklearn.model_selection import train_test_split\n",
    "import warnings; warnings.filterwarnings(\"ignore\")\n",
    "from tqdm import tqdm\n",
    "\n",
    "gc.enable()"
   ]
  },
  {
   "cell_type": "code",
   "execution_count": 2,
   "id": "6cd6decf",
   "metadata": {
    "execution": {
     "iopub.execute_input": "2022-10-02T13:09:23.354130Z",
     "iopub.status.busy": "2022-10-02T13:09:23.353655Z",
     "iopub.status.idle": "2022-10-02T13:09:57.681564Z",
     "shell.execute_reply": "2022-10-02T13:09:57.679552Z"
    },
    "papermill": {
     "duration": 34.334947,
     "end_time": "2022-10-02T13:09:57.685810",
     "exception": false,
     "start_time": "2022-10-02T13:09:23.350863",
     "status": "completed"
    },
    "tags": []
   },
   "outputs": [
    {
     "name": "stderr",
     "output_type": "stream",
     "text": [
      "100%|██████████| 4/4 [00:34<00:00,  8.58s/it]\n"
     ]
    }
   ],
   "source": [
    "debug = False\n",
    "generate_new = True\n",
    "test_df = pd.read_csv(\"../input/mayo-clinic-strip-ai/test.csv\")\n",
    "dirs = [\"../input/mayo-clinic-strip-ai/train/\", \"../input/mayo-clinic-strip-ai/test/\"]\n",
    "test_df\n",
    "\n",
    "try:\n",
    "    os.mkdir(\"../test/\")\n",
    "except:\n",
    "    pass\n",
    "for i in tqdm(range(test_df.shape[0])):\n",
    "    img_id = test_df.iloc[i].image_id\n",
    "    try:\n",
    "        sz = os.path.getsize(dirs[1] + img_id + \".tif\")\n",
    "    except:\n",
    "        sz = 1000000000\n",
    "    if(sz > 8e8):\n",
    "        img = np.zeros((1024,1024,3), np.uint8)\n",
    "    else:\n",
    "        try:\n",
    "            img = cv2.resize(tifffile.imread(dirs[1] + img_id + \".tif\"), (1024, 1024))\n",
    "        except:\n",
    "            img = np.zeros((1024,1024,3), np.uint8)\n",
    "    cv2.imwrite(f\"../test/{img_id}.jpg\", img)\n",
    "    del img\n",
    "    gc.collect()\n",
    "    \n",
    "    \n",
    "class ImgDataset(Dataset):\n",
    "    def __init__(self, df):\n",
    "        self.df = df \n",
    "        self.train = 'label' in df.columns\n",
    "    def __len__(self):\n",
    "        return len(self.df)\n",
    "    \n",
    "    def __getitem__(self, index):\n",
    "        paths = [\"../test/\", \"../train/\"]\n",
    "        image = cv2.imread(paths[self.train] + self.df.iloc[index].image_id + \".jpg\").astype(np.float32)/255\n",
    "\n",
    "        label = 0\n",
    "        try:\n",
    "            if len(image.shape) == 5:\n",
    "                image = image.squeeze().transpose(1, 2, 0)\n",
    "            image = cv2.resize(image, (1024, 1024)).transpose(2, 0, 1)\n",
    "        except:\n",
    "            image = np.zeros((3, 1024, 1024))\n",
    "        if(self.train):\n",
    "            label = {\"CE\" : 0, \"LAA\": 1}[self.df.iloc[index].label]\n",
    "        patient_id = self.df.iloc[index].patient_id\n",
    "        return image, label, patient_id"
   ]
  },
  {
   "cell_type": "code",
   "execution_count": 3,
   "id": "ed736895",
   "metadata": {
    "execution": {
     "iopub.execute_input": "2022-10-02T13:09:57.690955Z",
     "iopub.status.busy": "2022-10-02T13:09:57.690663Z",
     "iopub.status.idle": "2022-10-02T13:10:16.060403Z",
     "shell.execute_reply": "2022-10-02T13:10:16.059335Z"
    },
    "papermill": {
     "duration": 18.374729,
     "end_time": "2022-10-02T13:10:16.062509",
     "exception": false,
     "start_time": "2022-10-02T13:09:57.687780",
     "status": "completed"
    },
    "tags": []
   },
   "outputs": [
    {
     "name": "stderr",
     "output_type": "stream",
     "text": [
      "                                             \r"
     ]
    }
   ],
   "source": [
    "def predict(model, dataloader):\n",
    "    model.cuda()\n",
    "    model.eval()\n",
    "    dataloader = dataloader\n",
    "    outputs = []\n",
    "    s = nn.Softmax(dim=1)\n",
    "    ids = []\n",
    "    for item in tqdm(dataloader, leave=False):\n",
    "        patient_id = item[2][0]\n",
    "        images = item[0].cuda().float()\n",
    "        ids.append(patient_id)\n",
    "        output = model(images)\n",
    "        outputs.append(s(output.cpu()[:,:2])[0].detach().numpy())\n",
    "        \n",
    "        torch.cuda.empty_cache()\n",
    "        del images\n",
    "        gc.collect()\n",
    "    return np.array(outputs), ids\n",
    "\n",
    "paths = ['../input/mayo-model/efficientnet_model_acc_0.6386_b0.pth']\n",
    "\n",
    "models = []\n",
    "for path in paths:\n",
    "    models.append(torch.jit.load(path))\n",
    "    \n",
    "batch_size = 1\n",
    "test_loader = DataLoader(\n",
    "    ImgDataset(test_df), \n",
    "    batch_size=batch_size, \n",
    "    shuffle=False, \n",
    "    num_workers=1\n",
    ")\n",
    "sub_df = pd.read_csv('../input/mayo-clinic-strip-ai/sample_submission.csv')\n",
    "sub_df['CE'] = 0\n",
    "sub_df['LAA'] = 0\n",
    "\n",
    "for model in models:\n",
    "    anss, ids = predict(model, test_loader)\n",
    "    #print(anss, ids)\n",
    "    prob = pd.DataFrame({\"CE\" : anss[:,0], \"LAA\" : anss[:,1], \"id\" : ids}).groupby(\"id\").mean()\n",
    "    submission = pd.read_csv(\"../input/mayo-clinic-strip-ai/sample_submission.csv\")\n",
    "    submission.CE = prob.CE.to_list()\n",
    "    submission.LAA = prob.LAA.to_list()\n",
    "    \n",
    "    sub_df['CE'] = sub_df['CE'].values + submission['CE'].values\n",
    "    sub_df['LAA'] = sub_df['LAA'].values + submission['LAA'].values\n",
    "\n",
    "for i in range(len(sub_df['CE'])):\n",
    "    if sub_df['CE'][i] > 0.6:\n",
    "        sub_df['CE'][i] = 0.53\n",
    "        sub_df['LAA'][i] = 0.47\n",
    "    elif sub_df['LAA'][i] > 0.6:\n",
    "        sub_df['CE'][i] = 0.47\n",
    "        sub_df['LAA'][i] = 0.53\n",
    "    else:\n",
    "        sub_df['CE'][i] = 0.5\n",
    "        sub_df['LAA'][i] = 0.5\n",
    "        \n",
    "sub_df.to_csv(\"submission.csv\", index = False)"
   ]
  }
 ],
 "metadata": {
  "kernelspec": {
   "display_name": "Python 3",
   "language": "python",
   "name": "python3"
  },
  "language_info": {
   "codemirror_mode": {
    "name": "ipython",
    "version": 3
   },
   "file_extension": ".py",
   "mimetype": "text/x-python",
   "name": "python",
   "nbconvert_exporter": "python",
   "pygments_lexer": "ipython3",
   "version": "3.7.12"
  },
  "papermill": {
   "default_parameters": {},
   "duration": 64.155112,
   "end_time": "2022-10-02T13:10:17.489356",
   "environment_variables": {},
   "exception": null,
   "input_path": "__notebook__.ipynb",
   "output_path": "__notebook__.ipynb",
   "parameters": {},
   "start_time": "2022-10-02T13:09:13.334244",
   "version": "2.3.4"
  }
 },
 "nbformat": 4,
 "nbformat_minor": 5
}
