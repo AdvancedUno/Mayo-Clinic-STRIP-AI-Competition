{
 "cells": [
  {
   "cell_type": "code",
   "execution_count": 1,
   "id": "f9468681",
   "metadata": {
    "_cell_guid": "b1076dfc-b9ad-4769-8c92-a6c4dae69d19",
    "_uuid": "8f2839f25d086af736a60e9eeb907d3b93b6e0e5",
    "execution": {
     "iopub.execute_input": "2022-10-01T09:39:19.990675Z",
     "iopub.status.busy": "2022-10-01T09:39:19.989860Z",
     "iopub.status.idle": "2022-10-01T09:39:23.210808Z",
     "shell.execute_reply": "2022-10-01T09:39:23.209834Z"
    },
    "papermill": {
     "duration": 3.229903,
     "end_time": "2022-10-01T09:39:23.213656",
     "exception": false,
     "start_time": "2022-10-01T09:39:19.983753",
     "status": "completed"
    },
    "tags": []
   },
   "outputs": [],
   "source": [
    "import os\n",
    "import gc\n",
    "import cv2\n",
    "import copy\n",
    "import time\n",
    "import random\n",
    "import string\n",
    "import joblib\n",
    "import tifffile\n",
    "import numpy as np \n",
    "import pandas as pd \n",
    "import torch\n",
    "from torch import nn\n",
    "import seaborn as sns\n",
    "from torchvision import models\n",
    "import matplotlib.pyplot as plt\n",
    "from torch.utils.data import Dataset, DataLoader\n",
    "from sklearn.model_selection import train_test_split\n",
    "from tqdm.notebook import tqdm\n",
    "from torch.optim import lr_scheduler\n",
    "import warnings\n",
    "warnings.filterwarnings(\"ignore\")\n",
    "gc.enable()"
   ]
  },
  {
   "cell_type": "code",
   "execution_count": 2,
   "id": "4281136e",
   "metadata": {
    "execution": {
     "iopub.execute_input": "2022-10-01T09:39:23.222133Z",
     "iopub.status.busy": "2022-10-01T09:39:23.221645Z",
     "iopub.status.idle": "2022-10-01T09:39:23.246093Z",
     "shell.execute_reply": "2022-10-01T09:39:23.245056Z"
    },
    "papermill": {
     "duration": 0.031574,
     "end_time": "2022-10-01T09:39:23.248975",
     "exception": false,
     "start_time": "2022-10-01T09:39:23.217401",
     "status": "completed"
    },
    "tags": []
   },
   "outputs": [
    {
     "data": {
      "text/html": [
       "<div>\n",
       "<style scoped>\n",
       "    .dataframe tbody tr th:only-of-type {\n",
       "        vertical-align: middle;\n",
       "    }\n",
       "\n",
       "    .dataframe tbody tr th {\n",
       "        vertical-align: top;\n",
       "    }\n",
       "\n",
       "    .dataframe thead th {\n",
       "        text-align: right;\n",
       "    }\n",
       "</style>\n",
       "<table border=\"1\" class=\"dataframe\">\n",
       "  <thead>\n",
       "    <tr style=\"text-align: right;\">\n",
       "      <th></th>\n",
       "      <th>image_id</th>\n",
       "      <th>center_id</th>\n",
       "      <th>patient_id</th>\n",
       "      <th>image_num</th>\n",
       "    </tr>\n",
       "  </thead>\n",
       "  <tbody>\n",
       "    <tr>\n",
       "      <th>0</th>\n",
       "      <td>006388_0</td>\n",
       "      <td>11</td>\n",
       "      <td>006388</td>\n",
       "      <td>0</td>\n",
       "    </tr>\n",
       "    <tr>\n",
       "      <th>1</th>\n",
       "      <td>008e5c_0</td>\n",
       "      <td>11</td>\n",
       "      <td>008e5c</td>\n",
       "      <td>0</td>\n",
       "    </tr>\n",
       "    <tr>\n",
       "      <th>2</th>\n",
       "      <td>00c058_0</td>\n",
       "      <td>11</td>\n",
       "      <td>00c058</td>\n",
       "      <td>0</td>\n",
       "    </tr>\n",
       "    <tr>\n",
       "      <th>3</th>\n",
       "      <td>01adc5_0</td>\n",
       "      <td>11</td>\n",
       "      <td>01adc5</td>\n",
       "      <td>0</td>\n",
       "    </tr>\n",
       "  </tbody>\n",
       "</table>\n",
       "</div>"
      ],
      "text/plain": [
       "   image_id  center_id patient_id  image_num\n",
       "0  006388_0         11     006388          0\n",
       "1  008e5c_0         11     008e5c          0\n",
       "2  00c058_0         11     00c058          0\n",
       "3  01adc5_0         11     01adc5          0"
      ]
     },
     "execution_count": 2,
     "metadata": {},
     "output_type": "execute_result"
    }
   ],
   "source": [
    "debug = False\n",
    "generate_new = True\n",
    "test_df = pd.read_csv(\"../input/mayo-clinic-strip-ai/test.csv\")\n",
    "dirs = [\"../input/mayo-clinic-strip-ai/train/\", \"../input/mayo-clinic-strip-ai/test/\"]\n",
    "test_df"
   ]
  },
  {
   "cell_type": "code",
   "execution_count": 3,
   "id": "4844c3e3",
   "metadata": {
    "execution": {
     "iopub.execute_input": "2022-10-01T09:39:23.257283Z",
     "iopub.status.busy": "2022-10-01T09:39:23.257012Z",
     "iopub.status.idle": "2022-10-01T09:39:58.700831Z",
     "shell.execute_reply": "2022-10-01T09:39:58.699917Z"
    },
    "papermill": {
     "duration": 35.453578,
     "end_time": "2022-10-01T09:39:58.706123",
     "exception": false,
     "start_time": "2022-10-01T09:39:23.252545",
     "status": "completed"
    },
    "tags": []
   },
   "outputs": [
    {
     "data": {
      "application/vnd.jupyter.widget-view+json": {
       "model_id": "3e5146d00936445b91674ad5e70bf572",
       "version_major": 2,
       "version_minor": 0
      },
      "text/plain": [
       "  0%|          | 0/4 [00:00<?, ?it/s]"
      ]
     },
     "metadata": {},
     "output_type": "display_data"
    }
   ],
   "source": [
    "try:\n",
    "    os.mkdir(\"../test/\")\n",
    "except:\n",
    "    pass\n",
    "for i in tqdm(range(test_df.shape[0])):\n",
    "    img_id = test_df.iloc[i].image_id\n",
    "    try:\n",
    "        sz = os.path.getsize(dirs[1] + img_id + \".tif\")\n",
    "    except:\n",
    "        sz = 1000000000\n",
    "    if(sz > 8e8):\n",
    "        img = np.zeros((512,512,3), np.uint8)\n",
    "    else:\n",
    "        try:\n",
    "            img = cv2.resize(tifffile.imread(dirs[1] + img_id + \".tif\"), (512, 512))\n",
    "        except:\n",
    "            img = np.zeros((512,512,3), np.uint8)\n",
    "    cv2.imwrite(f\"../test/{img_id}.jpg\", img)\n",
    "    del img\n",
    "    gc.collect()"
   ]
  },
  {
   "cell_type": "code",
   "execution_count": 4,
   "id": "5bd812f8",
   "metadata": {
    "execution": {
     "iopub.execute_input": "2022-10-01T09:39:58.715230Z",
     "iopub.status.busy": "2022-10-01T09:39:58.714219Z",
     "iopub.status.idle": "2022-10-01T09:39:58.723174Z",
     "shell.execute_reply": "2022-10-01T09:39:58.722353Z"
    },
    "papermill": {
     "duration": 0.015412,
     "end_time": "2022-10-01T09:39:58.725116",
     "exception": false,
     "start_time": "2022-10-01T09:39:58.709704",
     "status": "completed"
    },
    "tags": []
   },
   "outputs": [],
   "source": [
    "class ImgDataset(Dataset):\n",
    "    def __init__(self, df):\n",
    "        self.df = df \n",
    "        self.train = 'label' in df.columns\n",
    "    def __len__(self):\n",
    "        return len(self.df)\n",
    "    \n",
    "    def __getitem__(self, index):\n",
    "        if(generate_new):\n",
    "            paths = [\"../test/\", \"../train/\"]\n",
    "        else:\n",
    "            paths = [\"../input/jpg-images-strip-ai/test/\", \"../input/jpg-images-strip-ai/train/\"]\n",
    "        try:\n",
    "            image = cv2.imread(paths[self.train] + self.df.iloc[index].image_id + \".jpg\")\n",
    "        except:\n",
    "            image = np.zeros((512,512,3), np.uint8)\n",
    "        label = 0\n",
    "        try:\n",
    "            if len(image.shape) == 5:\n",
    "                image = image.squeeze().transpose(1, 2, 0)\n",
    "            image = cv2.resize(image, (512, 512)).transpose(2, 0, 1)\n",
    "        except:\n",
    "            image = np.zeros((3, 512, 512))\n",
    "        if(self.train):\n",
    "            label = {\"CE\" : 0, \"LAA\": 1}[self.df.iloc[index].label]\n",
    "        patient_id = self.df.iloc[index].patient_id\n",
    "        return image, label, patient_id"
   ]
  },
  {
   "cell_type": "code",
   "execution_count": null,
   "id": "5e6be185",
   "metadata": {
    "papermill": {
     "duration": 0.003341,
     "end_time": "2022-10-01T09:39:58.731968",
     "exception": false,
     "start_time": "2022-10-01T09:39:58.728627",
     "status": "completed"
    },
    "tags": []
   },
   "outputs": [],
   "source": []
  },
  {
   "cell_type": "code",
   "execution_count": 5,
   "id": "f6cc7360",
   "metadata": {
    "execution": {
     "iopub.execute_input": "2022-10-01T09:39:58.740280Z",
     "iopub.status.busy": "2022-10-01T09:39:58.740003Z",
     "iopub.status.idle": "2022-10-01T09:39:58.749617Z",
     "shell.execute_reply": "2022-10-01T09:39:58.748794Z"
    },
    "papermill": {
     "duration": 0.016039,
     "end_time": "2022-10-01T09:39:58.751557",
     "exception": false,
     "start_time": "2022-10-01T09:39:58.735518",
     "status": "completed"
    },
    "tags": []
   },
   "outputs": [],
   "source": [
    "def predict(model, dataloader):\n",
    "    model.cuda()\n",
    "    model.eval()\n",
    "    dataloader = dataloader\n",
    "    outputs = []\n",
    "    s = nn.Softmax(dim=1)\n",
    "    ids = []\n",
    "    idx = 0\n",
    "    for item in tqdm(dataloader, leave=False):\n",
    "        patient_id = item[2][0]\n",
    "        try:\n",
    "            images = item[0].cuda().float()\n",
    "            ids.append(patient_id)\n",
    "            output = model(images)\n",
    "            outputs.append(s(output.cpu()[:,:2])[0].detach().numpy())\n",
    "        except:\n",
    "            ids.append(patient_id)\n",
    "            outputs.append(s(torch.tensor([[1, 1]]).float())[0].detach().numpy())\n",
    "        \n",
    "        if outputs[idx][0] > 0.55:\n",
    "            outputs[idx][0] = 0.55\n",
    "            outputs[idx][1] = 0.45\n",
    "        elif outputs[idx][0] < 0.45:    \n",
    "            outputs[idx][0] = 0.45\n",
    "            outputs[idx][1] = 0.55\n",
    "        \n",
    "        print(outputs[idx])\n",
    "        idx += 1\n",
    "        \n",
    "    return np.array(outputs), ids"
   ]
  },
  {
   "cell_type": "code",
   "execution_count": 6,
   "id": "43464ce9",
   "metadata": {
    "execution": {
     "iopub.execute_input": "2022-10-01T09:39:58.760174Z",
     "iopub.status.busy": "2022-10-01T09:39:58.759500Z",
     "iopub.status.idle": "2022-10-01T09:39:59.910204Z",
     "shell.execute_reply": "2022-10-01T09:39:59.909242Z"
    },
    "papermill": {
     "duration": 1.157461,
     "end_time": "2022-10-01T09:39:59.912580",
     "exception": false,
     "start_time": "2022-10-01T09:39:58.755119",
     "status": "completed"
    },
    "tags": []
   },
   "outputs": [],
   "source": [
    "#model = torch.hub.load('NVIDIA/DeepLearningExamples:torchhub', 'nvidia_efficientnet_b4', pretrained=True)\n",
    "model = torch.jit.load('../input/cnnstripai/model.pth')\n",
    "batch_size = 1\n",
    "test_loader = DataLoader(\n",
    "    ImgDataset(test_df), \n",
    "    batch_size=batch_size, \n",
    "    shuffle=False, \n",
    "    num_workers=1\n",
    ")"
   ]
  },
  {
   "cell_type": "code",
   "execution_count": 7,
   "id": "beddf373",
   "metadata": {
    "execution": {
     "iopub.execute_input": "2022-10-01T09:39:59.922778Z",
     "iopub.status.busy": "2022-10-01T09:39:59.921308Z",
     "iopub.status.idle": "2022-10-01T09:40:10.093571Z",
     "shell.execute_reply": "2022-10-01T09:40:10.092066Z"
    },
    "papermill": {
     "duration": 10.179406,
     "end_time": "2022-10-01T09:40:10.095903",
     "exception": false,
     "start_time": "2022-10-01T09:39:59.916497",
     "status": "completed"
    },
    "tags": []
   },
   "outputs": [
    {
     "data": {
      "application/vnd.jupyter.widget-view+json": {
       "model_id": "98e98f15104a4a7caef69ffabcc7a5df",
       "version_major": 2,
       "version_minor": 0
      },
      "text/plain": [
       "  0%|          | 0/4 [00:00<?, ?it/s]"
      ]
     },
     "metadata": {},
     "output_type": "display_data"
    },
    {
     "name": "stdout",
     "output_type": "stream",
     "text": [
      "[0.55 0.45]\n",
      "[0.5247191  0.47528094]\n",
      "[0.45 0.55]\n",
      "[0.45 0.55]\n"
     ]
    }
   ],
   "source": [
    "anss, ids = predict(model, test_loader)"
   ]
  },
  {
   "cell_type": "code",
   "execution_count": null,
   "id": "fa63f8c3",
   "metadata": {
    "papermill": {
     "duration": 0.003637,
     "end_time": "2022-10-01T09:40:10.103790",
     "exception": false,
     "start_time": "2022-10-01T09:40:10.100153",
     "status": "completed"
    },
    "tags": []
   },
   "outputs": [],
   "source": []
  },
  {
   "cell_type": "code",
   "execution_count": 8,
   "id": "1f4e3e78",
   "metadata": {
    "execution": {
     "iopub.execute_input": "2022-10-01T09:40:10.113427Z",
     "iopub.status.busy": "2022-10-01T09:40:10.112507Z",
     "iopub.status.idle": "2022-10-01T09:40:10.128336Z",
     "shell.execute_reply": "2022-10-01T09:40:10.127464Z"
    },
    "papermill": {
     "duration": 0.02279,
     "end_time": "2022-10-01T09:40:10.130370",
     "exception": false,
     "start_time": "2022-10-01T09:40:10.107580",
     "status": "completed"
    },
    "tags": []
   },
   "outputs": [],
   "source": [
    "prob = pd.DataFrame({\"CE\" : anss[:,0], \"LAA\" : anss[:,1], \"id\" : ids}).groupby(\"id\").mean()"
   ]
  },
  {
   "cell_type": "code",
   "execution_count": 9,
   "id": "7c006bde",
   "metadata": {
    "execution": {
     "iopub.execute_input": "2022-10-01T09:40:10.139202Z",
     "iopub.status.busy": "2022-10-01T09:40:10.138904Z",
     "iopub.status.idle": "2022-10-01T09:40:10.148495Z",
     "shell.execute_reply": "2022-10-01T09:40:10.147599Z"
    },
    "papermill": {
     "duration": 0.016546,
     "end_time": "2022-10-01T09:40:10.150771",
     "exception": false,
     "start_time": "2022-10-01T09:40:10.134225",
     "status": "completed"
    },
    "tags": []
   },
   "outputs": [],
   "source": [
    "submission = pd.read_csv(\"../input/mayo-clinic-strip-ai/sample_submission.csv\")"
   ]
  },
  {
   "cell_type": "code",
   "execution_count": 10,
   "id": "6d7bbf10",
   "metadata": {
    "execution": {
     "iopub.execute_input": "2022-10-01T09:40:10.159299Z",
     "iopub.status.busy": "2022-10-01T09:40:10.158970Z",
     "iopub.status.idle": "2022-10-01T09:40:10.164455Z",
     "shell.execute_reply": "2022-10-01T09:40:10.163648Z"
    },
    "papermill": {
     "duration": 0.011996,
     "end_time": "2022-10-01T09:40:10.166436",
     "exception": false,
     "start_time": "2022-10-01T09:40:10.154440",
     "status": "completed"
    },
    "tags": []
   },
   "outputs": [],
   "source": [
    "submission.CE = prob.CE.to_list()\n",
    "submission.LAA = prob.LAA.to_list()"
   ]
  },
  {
   "cell_type": "code",
   "execution_count": 11,
   "id": "0032eddb",
   "metadata": {
    "execution": {
     "iopub.execute_input": "2022-10-01T09:40:10.176119Z",
     "iopub.status.busy": "2022-10-01T09:40:10.174738Z",
     "iopub.status.idle": "2022-10-01T09:40:10.185592Z",
     "shell.execute_reply": "2022-10-01T09:40:10.184566Z"
    },
    "papermill": {
     "duration": 0.017169,
     "end_time": "2022-10-01T09:40:10.187385",
     "exception": false,
     "start_time": "2022-10-01T09:40:10.170216",
     "status": "completed"
    },
    "tags": []
   },
   "outputs": [
    {
     "data": {
      "text/html": [
       "<div>\n",
       "<style scoped>\n",
       "    .dataframe tbody tr th:only-of-type {\n",
       "        vertical-align: middle;\n",
       "    }\n",
       "\n",
       "    .dataframe tbody tr th {\n",
       "        vertical-align: top;\n",
       "    }\n",
       "\n",
       "    .dataframe thead th {\n",
       "        text-align: right;\n",
       "    }\n",
       "</style>\n",
       "<table border=\"1\" class=\"dataframe\">\n",
       "  <thead>\n",
       "    <tr style=\"text-align: right;\">\n",
       "      <th></th>\n",
       "      <th>patient_id</th>\n",
       "      <th>CE</th>\n",
       "      <th>LAA</th>\n",
       "    </tr>\n",
       "  </thead>\n",
       "  <tbody>\n",
       "    <tr>\n",
       "      <th>0</th>\n",
       "      <td>006388</td>\n",
       "      <td>0.550000</td>\n",
       "      <td>0.450000</td>\n",
       "    </tr>\n",
       "    <tr>\n",
       "      <th>1</th>\n",
       "      <td>008e5c</td>\n",
       "      <td>0.524719</td>\n",
       "      <td>0.475281</td>\n",
       "    </tr>\n",
       "    <tr>\n",
       "      <th>2</th>\n",
       "      <td>00c058</td>\n",
       "      <td>0.450000</td>\n",
       "      <td>0.550000</td>\n",
       "    </tr>\n",
       "    <tr>\n",
       "      <th>3</th>\n",
       "      <td>01adc5</td>\n",
       "      <td>0.450000</td>\n",
       "      <td>0.550000</td>\n",
       "    </tr>\n",
       "  </tbody>\n",
       "</table>\n",
       "</div>"
      ],
      "text/plain": [
       "  patient_id        CE       LAA\n",
       "0     006388  0.550000  0.450000\n",
       "1     008e5c  0.524719  0.475281\n",
       "2     00c058  0.450000  0.550000\n",
       "3     01adc5  0.450000  0.550000"
      ]
     },
     "execution_count": 11,
     "metadata": {},
     "output_type": "execute_result"
    }
   ],
   "source": [
    "submission"
   ]
  },
  {
   "cell_type": "code",
   "execution_count": 12,
   "id": "2dde0591",
   "metadata": {
    "execution": {
     "iopub.execute_input": "2022-10-01T09:40:10.197104Z",
     "iopub.status.busy": "2022-10-01T09:40:10.196270Z",
     "iopub.status.idle": "2022-10-01T09:40:10.203516Z",
     "shell.execute_reply": "2022-10-01T09:40:10.202704Z"
    },
    "papermill": {
     "duration": 0.013918,
     "end_time": "2022-10-01T09:40:10.205430",
     "exception": false,
     "start_time": "2022-10-01T09:40:10.191512",
     "status": "completed"
    },
    "tags": []
   },
   "outputs": [],
   "source": [
    "submission.to_csv(\"submission.csv\", index = False)"
   ]
  },
  {
   "cell_type": "code",
   "execution_count": null,
   "id": "f1cc492c",
   "metadata": {
    "papermill": {
     "duration": 0.00373,
     "end_time": "2022-10-01T09:40:10.213069",
     "exception": false,
     "start_time": "2022-10-01T09:40:10.209339",
     "status": "completed"
    },
    "tags": []
   },
   "outputs": [],
   "source": []
  }
 ],
 "metadata": {
  "kernelspec": {
   "display_name": "Python 3",
   "language": "python",
   "name": "python3"
  },
  "language_info": {
   "codemirror_mode": {
    "name": "ipython",
    "version": 3
   },
   "file_extension": ".py",
   "mimetype": "text/x-python",
   "name": "python",
   "nbconvert_exporter": "python",
   "pygments_lexer": "ipython3",
   "version": "3.7.12"
  },
  "papermill": {
   "default_parameters": {},
   "duration": 60.291777,
   "end_time": "2022-10-01T09:40:12.623635",
   "environment_variables": {},
   "exception": null,
   "input_path": "__notebook__.ipynb",
   "output_path": "__notebook__.ipynb",
   "parameters": {},
   "start_time": "2022-10-01T09:39:12.331858",
   "version": "2.3.4"
  },
  "widgets": {
   "application/vnd.jupyter.widget-state+json": {
    "state": {
     "0026ab88a9844f8a971f2cbfdaf81674": {
      "model_module": "@jupyter-widgets/controls",
      "model_module_version": "1.5.0",
      "model_name": "HTMLModel",
      "state": {
       "_dom_classes": [],
       "_model_module": "@jupyter-widgets/controls",
       "_model_module_version": "1.5.0",
       "_model_name": "HTMLModel",
       "_view_count": null,
       "_view_module": "@jupyter-widgets/controls",
       "_view_module_version": "1.5.0",
       "_view_name": "HTMLView",
       "description": "",
       "description_tooltip": null,
       "layout": "IPY_MODEL_704d6a54cd1a4d5289749076f4f02857",
       "placeholder": "​",
       "style": "IPY_MODEL_8d5b09094e4c42ae928adb5472e1df29",
       "value": "100%"
      }
     },
     "0d32885865ed413ea15d9993488f2adb": {
      "model_module": "@jupyter-widgets/base",
      "model_module_version": "1.2.0",
      "model_name": "LayoutModel",
      "state": {
       "_model_module": "@jupyter-widgets/base",
       "_model_module_version": "1.2.0",
       "_model_name": "LayoutModel",
       "_view_count": null,
       "_view_module": "@jupyter-widgets/base",
       "_view_module_version": "1.2.0",
       "_view_name": "LayoutView",
       "align_content": null,
       "align_items": null,
       "align_self": null,
       "border": null,
       "bottom": null,
       "display": null,
       "flex": null,
       "flex_flow": null,
       "grid_area": null,
       "grid_auto_columns": null,
       "grid_auto_flow": null,
       "grid_auto_rows": null,
       "grid_column": null,
       "grid_gap": null,
       "grid_row": null,
       "grid_template_areas": null,
       "grid_template_columns": null,
       "grid_template_rows": null,
       "height": null,
       "justify_content": null,
       "justify_items": null,
       "left": null,
       "margin": null,
       "max_height": null,
       "max_width": null,
       "min_height": null,
       "min_width": null,
       "object_fit": null,
       "object_position": null,
       "order": null,
       "overflow": null,
       "overflow_x": null,
       "overflow_y": null,
       "padding": null,
       "right": null,
       "top": null,
       "visibility": null,
       "width": null
      }
     },
     "1fe28e51c6984331ba23b74dfd8b6afb": {
      "model_module": "@jupyter-widgets/base",
      "model_module_version": "1.2.0",
      "model_name": "LayoutModel",
      "state": {
       "_model_module": "@jupyter-widgets/base",
       "_model_module_version": "1.2.0",
       "_model_name": "LayoutModel",
       "_view_count": null,
       "_view_module": "@jupyter-widgets/base",
       "_view_module_version": "1.2.0",
       "_view_name": "LayoutView",
       "align_content": null,
       "align_items": null,
       "align_self": null,
       "border": null,
       "bottom": null,
       "display": null,
       "flex": null,
       "flex_flow": null,
       "grid_area": null,
       "grid_auto_columns": null,
       "grid_auto_flow": null,
       "grid_auto_rows": null,
       "grid_column": null,
       "grid_gap": null,
       "grid_row": null,
       "grid_template_areas": null,
       "grid_template_columns": null,
       "grid_template_rows": null,
       "height": null,
       "justify_content": null,
       "justify_items": null,
       "left": null,
       "margin": null,
       "max_height": null,
       "max_width": null,
       "min_height": null,
       "min_width": null,
       "object_fit": null,
       "object_position": null,
       "order": null,
       "overflow": null,
       "overflow_x": null,
       "overflow_y": null,
       "padding": null,
       "right": null,
       "top": null,
       "visibility": null,
       "width": null
      }
     },
     "2d9d2ea96fbd421b850d0fcb94f08fb5": {
      "model_module": "@jupyter-widgets/base",
      "model_module_version": "1.2.0",
      "model_name": "LayoutModel",
      "state": {
       "_model_module": "@jupyter-widgets/base",
       "_model_module_version": "1.2.0",
       "_model_name": "LayoutModel",
       "_view_count": null,
       "_view_module": "@jupyter-widgets/base",
       "_view_module_version": "1.2.0",
       "_view_name": "LayoutView",
       "align_content": null,
       "align_items": null,
       "align_self": null,
       "border": null,
       "bottom": null,
       "display": null,
       "flex": null,
       "flex_flow": null,
       "grid_area": null,
       "grid_auto_columns": null,
       "grid_auto_flow": null,
       "grid_auto_rows": null,
       "grid_column": null,
       "grid_gap": null,
       "grid_row": null,
       "grid_template_areas": null,
       "grid_template_columns": null,
       "grid_template_rows": null,
       "height": null,
       "justify_content": null,
       "justify_items": null,
       "left": null,
       "margin": null,
       "max_height": null,
       "max_width": null,
       "min_height": null,
       "min_width": null,
       "object_fit": null,
       "object_position": null,
       "order": null,
       "overflow": null,
       "overflow_x": null,
       "overflow_y": null,
       "padding": null,
       "right": null,
       "top": null,
       "visibility": null,
       "width": null
      }
     },
     "3e5146d00936445b91674ad5e70bf572": {
      "model_module": "@jupyter-widgets/controls",
      "model_module_version": "1.5.0",
      "model_name": "HBoxModel",
      "state": {
       "_dom_classes": [],
       "_model_module": "@jupyter-widgets/controls",
       "_model_module_version": "1.5.0",
       "_model_name": "HBoxModel",
       "_view_count": null,
       "_view_module": "@jupyter-widgets/controls",
       "_view_module_version": "1.5.0",
       "_view_name": "HBoxView",
       "box_style": "",
       "children": [
        "IPY_MODEL_0026ab88a9844f8a971f2cbfdaf81674",
        "IPY_MODEL_d5ecdcda24e24aaaac1ae80cefa656f6",
        "IPY_MODEL_e06cd058b50247b0996ed9d564650e42"
       ],
       "layout": "IPY_MODEL_b4172213865346cdb84cf3c8c8888645"
      }
     },
     "4d88316b938c4bc7a7f6e9610c4543d9": {
      "model_module": "@jupyter-widgets/controls",
      "model_module_version": "1.5.0",
      "model_name": "DescriptionStyleModel",
      "state": {
       "_model_module": "@jupyter-widgets/controls",
       "_model_module_version": "1.5.0",
       "_model_name": "DescriptionStyleModel",
       "_view_count": null,
       "_view_module": "@jupyter-widgets/base",
       "_view_module_version": "1.2.0",
       "_view_name": "StyleView",
       "description_width": ""
      }
     },
     "6d703a624984481282d0f67f778c93be": {
      "model_module": "@jupyter-widgets/controls",
      "model_module_version": "1.5.0",
      "model_name": "ProgressStyleModel",
      "state": {
       "_model_module": "@jupyter-widgets/controls",
       "_model_module_version": "1.5.0",
       "_model_name": "ProgressStyleModel",
       "_view_count": null,
       "_view_module": "@jupyter-widgets/base",
       "_view_module_version": "1.2.0",
       "_view_name": "StyleView",
       "bar_color": null,
       "description_width": ""
      }
     },
     "704d6a54cd1a4d5289749076f4f02857": {
      "model_module": "@jupyter-widgets/base",
      "model_module_version": "1.2.0",
      "model_name": "LayoutModel",
      "state": {
       "_model_module": "@jupyter-widgets/base",
       "_model_module_version": "1.2.0",
       "_model_name": "LayoutModel",
       "_view_count": null,
       "_view_module": "@jupyter-widgets/base",
       "_view_module_version": "1.2.0",
       "_view_name": "LayoutView",
       "align_content": null,
       "align_items": null,
       "align_self": null,
       "border": null,
       "bottom": null,
       "display": null,
       "flex": null,
       "flex_flow": null,
       "grid_area": null,
       "grid_auto_columns": null,
       "grid_auto_flow": null,
       "grid_auto_rows": null,
       "grid_column": null,
       "grid_gap": null,
       "grid_row": null,
       "grid_template_areas": null,
       "grid_template_columns": null,
       "grid_template_rows": null,
       "height": null,
       "justify_content": null,
       "justify_items": null,
       "left": null,
       "margin": null,
       "max_height": null,
       "max_width": null,
       "min_height": null,
       "min_width": null,
       "object_fit": null,
       "object_position": null,
       "order": null,
       "overflow": null,
       "overflow_x": null,
       "overflow_y": null,
       "padding": null,
       "right": null,
       "top": null,
       "visibility": null,
       "width": null
      }
     },
     "79ac3db2a7bc4601b5a04177a9802547": {
      "model_module": "@jupyter-widgets/base",
      "model_module_version": "1.2.0",
      "model_name": "LayoutModel",
      "state": {
       "_model_module": "@jupyter-widgets/base",
       "_model_module_version": "1.2.0",
       "_model_name": "LayoutModel",
       "_view_count": null,
       "_view_module": "@jupyter-widgets/base",
       "_view_module_version": "1.2.0",
       "_view_name": "LayoutView",
       "align_content": null,
       "align_items": null,
       "align_self": null,
       "border": null,
       "bottom": null,
       "display": null,
       "flex": null,
       "flex_flow": null,
       "grid_area": null,
       "grid_auto_columns": null,
       "grid_auto_flow": null,
       "grid_auto_rows": null,
       "grid_column": null,
       "grid_gap": null,
       "grid_row": null,
       "grid_template_areas": null,
       "grid_template_columns": null,
       "grid_template_rows": null,
       "height": null,
       "justify_content": null,
       "justify_items": null,
       "left": null,
       "margin": null,
       "max_height": null,
       "max_width": null,
       "min_height": null,
       "min_width": null,
       "object_fit": null,
       "object_position": null,
       "order": null,
       "overflow": null,
       "overflow_x": null,
       "overflow_y": null,
       "padding": null,
       "right": null,
       "top": null,
       "visibility": null,
       "width": null
      }
     },
     "8d5b09094e4c42ae928adb5472e1df29": {
      "model_module": "@jupyter-widgets/controls",
      "model_module_version": "1.5.0",
      "model_name": "DescriptionStyleModel",
      "state": {
       "_model_module": "@jupyter-widgets/controls",
       "_model_module_version": "1.5.0",
       "_model_name": "DescriptionStyleModel",
       "_view_count": null,
       "_view_module": "@jupyter-widgets/base",
       "_view_module_version": "1.2.0",
       "_view_name": "StyleView",
       "description_width": ""
      }
     },
     "8de874de25b44c28b9fe993f6d6c978e": {
      "model_module": "@jupyter-widgets/controls",
      "model_module_version": "1.5.0",
      "model_name": "DescriptionStyleModel",
      "state": {
       "_model_module": "@jupyter-widgets/controls",
       "_model_module_version": "1.5.0",
       "_model_name": "DescriptionStyleModel",
       "_view_count": null,
       "_view_module": "@jupyter-widgets/base",
       "_view_module_version": "1.2.0",
       "_view_name": "StyleView",
       "description_width": ""
      }
     },
     "98e98f15104a4a7caef69ffabcc7a5df": {
      "model_module": "@jupyter-widgets/controls",
      "model_module_version": "1.5.0",
      "model_name": "HBoxModel",
      "state": {
       "_dom_classes": [],
       "_model_module": "@jupyter-widgets/controls",
       "_model_module_version": "1.5.0",
       "_model_name": "HBoxModel",
       "_view_count": null,
       "_view_module": "@jupyter-widgets/controls",
       "_view_module_version": "1.5.0",
       "_view_name": "HBoxView",
       "box_style": "",
       "children": [
        "IPY_MODEL_dc8807a7bdd84fc58c069e1596077978",
        "IPY_MODEL_e69bf0e21e834f779f71a1f340f8b153",
        "IPY_MODEL_9e70a9900c6f42c8967f1470cfef34ce"
       ],
       "layout": "IPY_MODEL_c93d94a718834f5b8049f82e239e4374"
      }
     },
     "9e70a9900c6f42c8967f1470cfef34ce": {
      "model_module": "@jupyter-widgets/controls",
      "model_module_version": "1.5.0",
      "model_name": "HTMLModel",
      "state": {
       "_dom_classes": [],
       "_model_module": "@jupyter-widgets/controls",
       "_model_module_version": "1.5.0",
       "_model_name": "HTMLModel",
       "_view_count": null,
       "_view_module": "@jupyter-widgets/controls",
       "_view_module_version": "1.5.0",
       "_view_name": "HTMLView",
       "description": "",
       "description_tooltip": null,
       "layout": "IPY_MODEL_0d32885865ed413ea15d9993488f2adb",
       "placeholder": "​",
       "style": "IPY_MODEL_9ed11260b8c240c8a34f75a919170651",
       "value": " 3/4 [00:07&lt;00:01,  1.67s/it]"
      }
     },
     "9ed11260b8c240c8a34f75a919170651": {
      "model_module": "@jupyter-widgets/controls",
      "model_module_version": "1.5.0",
      "model_name": "DescriptionStyleModel",
      "state": {
       "_model_module": "@jupyter-widgets/controls",
       "_model_module_version": "1.5.0",
       "_model_name": "DescriptionStyleModel",
       "_view_count": null,
       "_view_module": "@jupyter-widgets/base",
       "_view_module_version": "1.2.0",
       "_view_name": "StyleView",
       "description_width": ""
      }
     },
     "b4172213865346cdb84cf3c8c8888645": {
      "model_module": "@jupyter-widgets/base",
      "model_module_version": "1.2.0",
      "model_name": "LayoutModel",
      "state": {
       "_model_module": "@jupyter-widgets/base",
       "_model_module_version": "1.2.0",
       "_model_name": "LayoutModel",
       "_view_count": null,
       "_view_module": "@jupyter-widgets/base",
       "_view_module_version": "1.2.0",
       "_view_name": "LayoutView",
       "align_content": null,
       "align_items": null,
       "align_self": null,
       "border": null,
       "bottom": null,
       "display": null,
       "flex": null,
       "flex_flow": null,
       "grid_area": null,
       "grid_auto_columns": null,
       "grid_auto_flow": null,
       "grid_auto_rows": null,
       "grid_column": null,
       "grid_gap": null,
       "grid_row": null,
       "grid_template_areas": null,
       "grid_template_columns": null,
       "grid_template_rows": null,
       "height": null,
       "justify_content": null,
       "justify_items": null,
       "left": null,
       "margin": null,
       "max_height": null,
       "max_width": null,
       "min_height": null,
       "min_width": null,
       "object_fit": null,
       "object_position": null,
       "order": null,
       "overflow": null,
       "overflow_x": null,
       "overflow_y": null,
       "padding": null,
       "right": null,
       "top": null,
       "visibility": null,
       "width": null
      }
     },
     "be670074a2a64f0a9909871ee80817f2": {
      "model_module": "@jupyter-widgets/base",
      "model_module_version": "1.2.0",
      "model_name": "LayoutModel",
      "state": {
       "_model_module": "@jupyter-widgets/base",
       "_model_module_version": "1.2.0",
       "_model_name": "LayoutModel",
       "_view_count": null,
       "_view_module": "@jupyter-widgets/base",
       "_view_module_version": "1.2.0",
       "_view_name": "LayoutView",
       "align_content": null,
       "align_items": null,
       "align_self": null,
       "border": null,
       "bottom": null,
       "display": null,
       "flex": null,
       "flex_flow": null,
       "grid_area": null,
       "grid_auto_columns": null,
       "grid_auto_flow": null,
       "grid_auto_rows": null,
       "grid_column": null,
       "grid_gap": null,
       "grid_row": null,
       "grid_template_areas": null,
       "grid_template_columns": null,
       "grid_template_rows": null,
       "height": null,
       "justify_content": null,
       "justify_items": null,
       "left": null,
       "margin": null,
       "max_height": null,
       "max_width": null,
       "min_height": null,
       "min_width": null,
       "object_fit": null,
       "object_position": null,
       "order": null,
       "overflow": null,
       "overflow_x": null,
       "overflow_y": null,
       "padding": null,
       "right": null,
       "top": null,
       "visibility": null,
       "width": null
      }
     },
     "c93d94a718834f5b8049f82e239e4374": {
      "model_module": "@jupyter-widgets/base",
      "model_module_version": "1.2.0",
      "model_name": "LayoutModel",
      "state": {
       "_model_module": "@jupyter-widgets/base",
       "_model_module_version": "1.2.0",
       "_model_name": "LayoutModel",
       "_view_count": null,
       "_view_module": "@jupyter-widgets/base",
       "_view_module_version": "1.2.0",
       "_view_name": "LayoutView",
       "align_content": null,
       "align_items": null,
       "align_self": null,
       "border": null,
       "bottom": null,
       "display": null,
       "flex": null,
       "flex_flow": null,
       "grid_area": null,
       "grid_auto_columns": null,
       "grid_auto_flow": null,
       "grid_auto_rows": null,
       "grid_column": null,
       "grid_gap": null,
       "grid_row": null,
       "grid_template_areas": null,
       "grid_template_columns": null,
       "grid_template_rows": null,
       "height": null,
       "justify_content": null,
       "justify_items": null,
       "left": null,
       "margin": null,
       "max_height": null,
       "max_width": null,
       "min_height": null,
       "min_width": null,
       "object_fit": null,
       "object_position": null,
       "order": null,
       "overflow": null,
       "overflow_x": null,
       "overflow_y": null,
       "padding": null,
       "right": null,
       "top": null,
       "visibility": null,
       "width": null
      }
     },
     "d5ecdcda24e24aaaac1ae80cefa656f6": {
      "model_module": "@jupyter-widgets/controls",
      "model_module_version": "1.5.0",
      "model_name": "FloatProgressModel",
      "state": {
       "_dom_classes": [],
       "_model_module": "@jupyter-widgets/controls",
       "_model_module_version": "1.5.0",
       "_model_name": "FloatProgressModel",
       "_view_count": null,
       "_view_module": "@jupyter-widgets/controls",
       "_view_module_version": "1.5.0",
       "_view_name": "ProgressView",
       "bar_style": "success",
       "description": "",
       "description_tooltip": null,
       "layout": "IPY_MODEL_2d9d2ea96fbd421b850d0fcb94f08fb5",
       "max": 4.0,
       "min": 0.0,
       "orientation": "horizontal",
       "style": "IPY_MODEL_dc6cfaf9882e45ca925155237fb88a44",
       "value": 4.0
      }
     },
     "dc6cfaf9882e45ca925155237fb88a44": {
      "model_module": "@jupyter-widgets/controls",
      "model_module_version": "1.5.0",
      "model_name": "ProgressStyleModel",
      "state": {
       "_model_module": "@jupyter-widgets/controls",
       "_model_module_version": "1.5.0",
       "_model_name": "ProgressStyleModel",
       "_view_count": null,
       "_view_module": "@jupyter-widgets/base",
       "_view_module_version": "1.2.0",
       "_view_name": "StyleView",
       "bar_color": null,
       "description_width": ""
      }
     },
     "dc8807a7bdd84fc58c069e1596077978": {
      "model_module": "@jupyter-widgets/controls",
      "model_module_version": "1.5.0",
      "model_name": "HTMLModel",
      "state": {
       "_dom_classes": [],
       "_model_module": "@jupyter-widgets/controls",
       "_model_module_version": "1.5.0",
       "_model_name": "HTMLModel",
       "_view_count": null,
       "_view_module": "@jupyter-widgets/controls",
       "_view_module_version": "1.5.0",
       "_view_name": "HTMLView",
       "description": "",
       "description_tooltip": null,
       "layout": "IPY_MODEL_be670074a2a64f0a9909871ee80817f2",
       "placeholder": "​",
       "style": "IPY_MODEL_4d88316b938c4bc7a7f6e9610c4543d9",
       "value": " 75%"
      }
     },
     "e06cd058b50247b0996ed9d564650e42": {
      "model_module": "@jupyter-widgets/controls",
      "model_module_version": "1.5.0",
      "model_name": "HTMLModel",
      "state": {
       "_dom_classes": [],
       "_model_module": "@jupyter-widgets/controls",
       "_model_module_version": "1.5.0",
       "_model_name": "HTMLModel",
       "_view_count": null,
       "_view_module": "@jupyter-widgets/controls",
       "_view_module_version": "1.5.0",
       "_view_name": "HTMLView",
       "description": "",
       "description_tooltip": null,
       "layout": "IPY_MODEL_1fe28e51c6984331ba23b74dfd8b6afb",
       "placeholder": "​",
       "style": "IPY_MODEL_8de874de25b44c28b9fe993f6d6c978e",
       "value": " 4/4 [00:35&lt;00:00, 11.95s/it]"
      }
     },
     "e69bf0e21e834f779f71a1f340f8b153": {
      "model_module": "@jupyter-widgets/controls",
      "model_module_version": "1.5.0",
      "model_name": "FloatProgressModel",
      "state": {
       "_dom_classes": [],
       "_model_module": "@jupyter-widgets/controls",
       "_model_module_version": "1.5.0",
       "_model_name": "FloatProgressModel",
       "_view_count": null,
       "_view_module": "@jupyter-widgets/controls",
       "_view_module_version": "1.5.0",
       "_view_name": "ProgressView",
       "bar_style": "",
       "description": "",
       "description_tooltip": null,
       "layout": "IPY_MODEL_79ac3db2a7bc4601b5a04177a9802547",
       "max": 4.0,
       "min": 0.0,
       "orientation": "horizontal",
       "style": "IPY_MODEL_6d703a624984481282d0f67f778c93be",
       "value": 4.0
      }
     }
    },
    "version_major": 2,
    "version_minor": 0
   }
  }
 },
 "nbformat": 4,
 "nbformat_minor": 5
}
